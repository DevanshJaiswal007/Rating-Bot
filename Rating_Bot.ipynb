{
 "cells": [
  {
   "cell_type": "code",
   "execution_count": 1,
   "id": "18240ccd",
   "metadata": {},
   "outputs": [],
   "source": [
    "import pandas\n",
    "from sklearn.feature_extraction.text import CountVectorizer,TfidfTransformer"
   ]
  },
  {
   "cell_type": "code",
   "execution_count": 2,
   "id": "4db4bd8e",
   "metadata": {},
   "outputs": [
    {
     "data": {
      "text/html": [
       "<div>\n",
       "<style scoped>\n",
       "    .dataframe tbody tr th:only-of-type {\n",
       "        vertical-align: middle;\n",
       "    }\n",
       "\n",
       "    .dataframe tbody tr th {\n",
       "        vertical-align: top;\n",
       "    }\n",
       "\n",
       "    .dataframe thead th {\n",
       "        text-align: right;\n",
       "    }\n",
       "</style>\n",
       "<table border=\"1\" class=\"dataframe\">\n",
       "  <thead>\n",
       "    <tr style=\"text-align: right;\">\n",
       "      <th></th>\n",
       "      <th>Reviews</th>\n",
       "      <th>Rating</th>\n",
       "    </tr>\n",
       "  </thead>\n",
       "  <tbody>\n",
       "    <tr>\n",
       "      <th>0</th>\n",
       "      <td>The product is fairly good but it has scratche...</td>\n",
       "      <td>Average</td>\n",
       "    </tr>\n",
       "    <tr>\n",
       "      <th>1</th>\n",
       "      <td>Not same as told in the description</td>\n",
       "      <td>Poor</td>\n",
       "    </tr>\n",
       "    <tr>\n",
       "      <th>2</th>\n",
       "      <td>It is worth the money!</td>\n",
       "      <td>Good</td>\n",
       "    </tr>\n",
       "    <tr>\n",
       "      <th>3</th>\n",
       "      <td>Delivered product is not genuine</td>\n",
       "      <td>Poor</td>\n",
       "    </tr>\n",
       "    <tr>\n",
       "      <th>4</th>\n",
       "      <td>I'm not satisifed with the build quality</td>\n",
       "      <td>Poor</td>\n",
       "    </tr>\n",
       "    <tr>\n",
       "      <th>5</th>\n",
       "      <td>This is considerably good for the price range</td>\n",
       "      <td>Good</td>\n",
       "    </tr>\n",
       "    <tr>\n",
       "      <th>6</th>\n",
       "      <td>The product is fine but the packaging isn't good</td>\n",
       "      <td>Average</td>\n",
       "    </tr>\n",
       "    <tr>\n",
       "      <th>7</th>\n",
       "      <td>I am satisfied</td>\n",
       "      <td>Average</td>\n",
       "    </tr>\n",
       "    <tr>\n",
       "      <th>8</th>\n",
       "      <td>Certainly a better version is availble but it ...</td>\n",
       "      <td>Average</td>\n",
       "    </tr>\n",
       "    <tr>\n",
       "      <th>9</th>\n",
       "      <td>The product is damaged</td>\n",
       "      <td>Poor</td>\n",
       "    </tr>\n",
       "    <tr>\n",
       "      <th>10</th>\n",
       "      <td>I will recommend everyone to go for this</td>\n",
       "      <td>Good</td>\n",
       "    </tr>\n",
       "    <tr>\n",
       "      <th>11</th>\n",
       "      <td>It was not worth the money</td>\n",
       "      <td>Poor</td>\n",
       "    </tr>\n",
       "    <tr>\n",
       "      <th>12</th>\n",
       "      <td>The product is a fake copy of the genuine</td>\n",
       "      <td>Poor</td>\n",
       "    </tr>\n",
       "    <tr>\n",
       "      <th>13</th>\n",
       "      <td>Evrything is fine except for the packaging</td>\n",
       "      <td>Average</td>\n",
       "    </tr>\n",
       "    <tr>\n",
       "      <th>14</th>\n",
       "      <td>Does not come with warranty card</td>\n",
       "      <td>Poor</td>\n",
       "    </tr>\n",
       "    <tr>\n",
       "      <th>15</th>\n",
       "      <td>The build quality is awesome for the price</td>\n",
       "      <td>Good</td>\n",
       "    </tr>\n",
       "    <tr>\n",
       "      <th>16</th>\n",
       "      <td>Cannot find any better</td>\n",
       "      <td>Good</td>\n",
       "    </tr>\n",
       "    <tr>\n",
       "      <th>17</th>\n",
       "      <td>Complete satisfactory</td>\n",
       "      <td>Good</td>\n",
       "    </tr>\n",
       "    <tr>\n",
       "      <th>18</th>\n",
       "      <td>Packaging was torn off but the product is fine</td>\n",
       "      <td>Average</td>\n",
       "    </tr>\n",
       "    <tr>\n",
       "      <th>19</th>\n",
       "      <td>This is not good for the price range</td>\n",
       "      <td>Poor</td>\n",
       "    </tr>\n",
       "  </tbody>\n",
       "</table>\n",
       "</div>"
      ],
      "text/plain": [
       "                                              Reviews   Rating\n",
       "0   The product is fairly good but it has scratche...  Average\n",
       "1                 Not same as told in the description     Poor\n",
       "2                              It is worth the money!     Good\n",
       "3                    Delivered product is not genuine     Poor\n",
       "4            I'm not satisifed with the build quality     Poor\n",
       "5       This is considerably good for the price range     Good\n",
       "6    The product is fine but the packaging isn't good  Average\n",
       "7                                      I am satisfied  Average\n",
       "8   Certainly a better version is availble but it ...  Average\n",
       "9                              The product is damaged     Poor\n",
       "10           I will recommend everyone to go for this     Good\n",
       "11                         It was not worth the money     Poor\n",
       "12          The product is a fake copy of the genuine     Poor\n",
       "13         Evrything is fine except for the packaging  Average\n",
       "14                   Does not come with warranty card     Poor\n",
       "15         The build quality is awesome for the price     Good\n",
       "16                             Cannot find any better     Good\n",
       "17                              Complete satisfactory     Good\n",
       "18     Packaging was torn off but the product is fine  Average\n",
       "19               This is not good for the price range     Poor"
      ]
     },
     "execution_count": 2,
     "metadata": {},
     "output_type": "execute_result"
    }
   ],
   "source": [
    "df=pandas.read_csv(\"C:/Users/91842/Downloads/reviews.csv\")\n",
    "df"
   ]
  },
  {
   "cell_type": "code",
   "execution_count": 3,
   "id": "ed8c5796",
   "metadata": {},
   "outputs": [],
   "source": [
    "x=df['Reviews']\n",
    "#features Extraction\n",
    "vec=CountVectorizer()\n",
    "vec.fit(x)\n",
    "vec_x=vec.transform(x)"
   ]
  },
  {
   "cell_type": "code",
   "execution_count": 4,
   "id": "1d2068cb",
   "metadata": {},
   "outputs": [
    {
     "data": {
      "text/plain": [
       "{'the': 52,\n",
       " 'product': 43,\n",
       " 'is': 33,\n",
       " 'fairly': 23,\n",
       " 'good': 30,\n",
       " 'but': 8,\n",
       " 'it': 35,\n",
       " 'has': 31,\n",
       " 'scratches': 51,\n",
       " 'on': 40,\n",
       " 'box': 6,\n",
       " 'not': 37,\n",
       " 'same': 47,\n",
       " 'as': 2,\n",
       " 'told': 55,\n",
       " 'in': 32,\n",
       " 'description': 18,\n",
       " 'worth': 62,\n",
       " 'money': 36,\n",
       " 'delivered': 17,\n",
       " 'genuine': 28,\n",
       " 'satisifed': 50,\n",
       " 'with': 61,\n",
       " 'build': 7,\n",
       " 'quality': 44,\n",
       " 'this': 53,\n",
       " 'considerably': 14,\n",
       " 'for': 27,\n",
       " 'price': 42,\n",
       " 'range': 45,\n",
       " 'fine': 26,\n",
       " 'packaging': 41,\n",
       " 'isn': 34,\n",
       " 'am': 0,\n",
       " 'satisfied': 49,\n",
       " 'certainly': 11,\n",
       " 'better': 5,\n",
       " 'version': 57,\n",
       " 'availble': 3,\n",
       " 'damaged': 16,\n",
       " 'will': 60,\n",
       " 'recommend': 46,\n",
       " 'everyone': 20,\n",
       " 'to': 54,\n",
       " 'go': 29,\n",
       " 'was': 59,\n",
       " 'fake': 24,\n",
       " 'copy': 15,\n",
       " 'of': 38,\n",
       " 'evrything': 21,\n",
       " 'except': 22,\n",
       " 'does': 19,\n",
       " 'come': 12,\n",
       " 'warranty': 58,\n",
       " 'card': 10,\n",
       " 'awesome': 4,\n",
       " 'cannot': 9,\n",
       " 'find': 25,\n",
       " 'any': 1,\n",
       " 'complete': 13,\n",
       " 'satisfactory': 48,\n",
       " 'torn': 56,\n",
       " 'off': 39}"
      ]
     },
     "execution_count": 4,
     "metadata": {},
     "output_type": "execute_result"
    }
   ],
   "source": [
    "vec.vocabulary_"
   ]
  },
  {
   "cell_type": "code",
   "execution_count": 5,
   "id": "abdd1222",
   "metadata": {},
   "outputs": [
    {
     "data": {
      "text/plain": [
       "array(['am', 'any', 'as', 'availble', 'awesome', 'better', 'box', 'build',\n",
       "       'but', 'cannot', 'card', 'certainly', 'come', 'complete',\n",
       "       'considerably', 'copy', 'damaged', 'delivered', 'description',\n",
       "       'does', 'everyone', 'evrything', 'except', 'fairly', 'fake',\n",
       "       'find', 'fine', 'for', 'genuine', 'go', 'good', 'has', 'in', 'is',\n",
       "       'isn', 'it', 'money', 'not', 'of', 'off', 'on', 'packaging',\n",
       "       'price', 'product', 'quality', 'range', 'recommend', 'same',\n",
       "       'satisfactory', 'satisfied', 'satisifed', 'scratches', 'the',\n",
       "       'this', 'to', 'told', 'torn', 'version', 'warranty', 'was', 'will',\n",
       "       'with', 'worth'], dtype=object)"
      ]
     },
     "execution_count": 5,
     "metadata": {},
     "output_type": "execute_result"
    }
   ],
   "source": [
    "vec.get_feature_names_out()"
   ]
  },
  {
   "cell_type": "code",
   "execution_count": 7,
   "id": "356f4645",
   "metadata": {},
   "outputs": [],
   "source": [
    "# Tf Idf extraction\n",
    "tfidf=TfidfTransformer()\n",
    "tfidf.fit(vec_x)\n",
    "rev=tfidf.transform(vec_x)"
   ]
  },
  {
   "cell_type": "code",
   "execution_count": 25,
   "id": "18f49401",
   "metadata": {},
   "outputs": [],
   "source": [
    "y=df['Rating'].tolist()"
   ]
  },
  {
   "cell_type": "code",
   "execution_count": 26,
   "id": "c8fc096b",
   "metadata": {},
   "outputs": [
    {
     "data": {
      "text/plain": [
       "['Average',\n",
       " 'Poor',\n",
       " 'Good',\n",
       " 'Poor',\n",
       " 'Poor',\n",
       " 'Good',\n",
       " 'Average',\n",
       " 'Average',\n",
       " 'Average',\n",
       " 'Poor',\n",
       " 'Good',\n",
       " 'Poor',\n",
       " 'Poor',\n",
       " 'Average',\n",
       " 'Poor',\n",
       " 'Good',\n",
       " 'Good',\n",
       " 'Good',\n",
       " 'Average',\n",
       " 'Poor']"
      ]
     },
     "execution_count": 26,
     "metadata": {},
     "output_type": "execute_result"
    }
   ],
   "source": [
    "y"
   ]
  },
  {
   "cell_type": "code",
   "execution_count": 11,
   "id": "3e655442",
   "metadata": {},
   "outputs": [],
   "source": [
    "from sklearn.tree import DecisionTreeClassifier"
   ]
  },
  {
   "cell_type": "code",
   "execution_count": 12,
   "id": "0e42d485",
   "metadata": {},
   "outputs": [
    {
     "data": {
      "text/plain": [
       "DecisionTreeClassifier()"
      ]
     },
     "execution_count": 12,
     "metadata": {},
     "output_type": "execute_result"
    }
   ],
   "source": [
    "model =DecisionTreeClassifier()\n",
    "model.fit(rev,y)"
   ]
  },
  {
   "cell_type": "code",
   "execution_count": 21,
   "id": "a4eabee5",
   "metadata": {},
   "outputs": [],
   "source": [
    "def rate(*comment):\n",
    "    f_ex=vec.transform(comment)\n",
    "    tf=tfidf.transform(f_ex)\n",
    "    pred= model.predict(tf)\n",
    "    for rev,ret in zip(comment,pred):\n",
    "        print(rev,':\\n','Rating:',ret)"
   ]
  },
  {
   "cell_type": "code",
   "execution_count": 22,
   "id": "75ab4892",
   "metadata": {},
   "outputs": [
    {
     "name": "stdout",
     "output_type": "stream",
     "text": [
      "not in good condition :\n",
      " Rating: Poor\n",
      "it is satisfactory :\n",
      " Rating: Good\n"
     ]
    }
   ],
   "source": [
    "rate('not in good condition',\n",
    "    'it is satisfactory')"
   ]
  },
  {
   "cell_type": "code",
   "execution_count": null,
   "id": "cccff04d",
   "metadata": {},
   "outputs": [],
   "source": []
  }
 ],
 "metadata": {
  "kernelspec": {
   "display_name": "Python 3",
   "language": "python",
   "name": "python3"
  },
  "language_info": {
   "codemirror_mode": {
    "name": "ipython",
    "version": 3
   },
   "file_extension": ".py",
   "mimetype": "text/x-python",
   "name": "python",
   "nbconvert_exporter": "python",
   "pygments_lexer": "ipython3",
   "version": "3.8.8"
  }
 },
 "nbformat": 4,
 "nbformat_minor": 5
}
